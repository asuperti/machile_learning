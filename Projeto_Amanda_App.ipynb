{
  "cells": [
    {
      "cell_type": "markdown",
      "metadata": {
        "id": "yjfjKWb5sg9J"
      },
      "source": [
        "# Contexto de Pesquisa\n",
        "\n",
        "**Aplicativo Desrotulando**\n",
        "\n",
        "O aplicativo [Desrotulando](https://desrotulando.com/) disponibiliza, de forma gratuita, avaliações de rotulagens de produtos industrializados para consumidores. A avaliação é feita por meio de um food score interno, baseado na legislação de rotulagem vigente do Brasil pelo órgão regulatório [ANVISA](https://www.gov.br/anvisa/pt-br/assuntos/alimentos/rotulagem). \n",
        "\n",
        "O usuário pode fazer a busca por palavras chaves dentro do aplicativo, ou por meio de escaneamento do código de barras do produto. A base de dados é fomentada pelos próprios usuários, que fornecem as fotos do rótulo e as informações básicas de cadastro do produto, como marca e categoria. As demais informações são cadastradas pela equipe interna do aplicativo.\n",
        "\n",
        "A empresa tem interesse em diversificar a base de produtos cadastrados atualmente, focando em itens com alto score nutricional, como os que possuem os selos \"orgânico\" e \"clean label\".\n",
        "\n",
        "Para tanto, a empresa gostaria de desenvolver uma análise  das categorias mais acessadas por usuários, e sua relação com os atributos de rotulagens mais relevantes.\n",
        "\n",
        "Questão de Pesquisa:\n",
        "- É possível prever a ocorrência de selos nutricionais de novos produtos com as informações disponíveis no base de dados do aplicativo?\n",
        "\n",
        "A base de dados desse projeto compreende 8107 linhas, em 14 colunas. São consideradas as 6 principais categorias de produto com maior número de acessos entre maio a outubro 2022. \n",
        "\n",
        "[Dataset](https://github.com/asuperti/machile_learning/)\n",
        "\n",
        "[Dicionário de Dados](https://docs.google.com/document/d/1GScayuAPbXdg4IYYoo8tc4WXt23Naz8GZHTbpH1zLQA/edit?usp=sharing)\n"
      ]
    },
    {
      "cell_type": "markdown",
      "metadata": {
        "id": "AWffCZUdtfYD"
      },
      "source": [
        "#Análise Exploratória"
      ]
    },
    {
      "cell_type": "markdown",
      "source": [
        "Vamos iniciar a análise explorátoria com a extração dos dados."
      ],
      "metadata": {
        "id": "lhuKDnzlQdVs"
      }
    },
    {
      "cell_type": "code",
      "execution_count": 1,
      "metadata": {
        "id": "R7YrV1LVubC4"
      },
      "outputs": [],
      "source": [
        "import sys\n",
        "import numpy as np\n",
        "import scipy\n",
        "import os\n",
        "import csv\n",
        "import datetime\n",
        "import seaborn as sns\n",
        "import sklearn\n",
        "import pandas as pd\n",
        "import matplotlib as mpl\n",
        "import matplotlib.pyplot as plt"
      ]
    },
    {
      "cell_type": "code",
      "source": [
        "url = 'https://raw.githubusercontent.com/asuperti/machile_learning/main/APP_FINAL.csv'\n",
        "app = pd.read_csv (url, sep = ';')\n"
      ],
      "metadata": {
        "id": "NNjkt7U3DftB"
      },
      "execution_count": 2,
      "outputs": []
    },
    {
      "cell_type": "markdown",
      "source": [
        "Abaixo, algumas informações sobre o arquivo: 8107 linhas e 14 colunas."
      ],
      "metadata": {
        "id": "v-hAzIxnQmLo"
      }
    },
    {
      "cell_type": "code",
      "execution_count": 3,
      "metadata": {
        "colab": {
          "base_uri": "https://localhost:8080/"
        },
        "id": "WLFlQSW6T7LV",
        "outputId": "1417fdef-7ea7-4ffb-c19c-0e27b9cf18d6"
      },
      "outputs": [
        {
          "output_type": "execute_result",
          "data": {
            "text/plain": [
              "(8107, 14)"
            ]
          },
          "metadata": {},
          "execution_count": 3
        }
      ],
      "source": [
        "app.shape"
      ]
    },
    {
      "cell_type": "markdown",
      "source": [
        "Avaliando as primeiras e últimas colunas do arquivo."
      ],
      "metadata": {
        "id": "MiadRH9SQ4Q9"
      }
    },
    {
      "cell_type": "code",
      "execution_count": 4,
      "metadata": {
        "colab": {
          "base_uri": "https://localhost:8080/",
          "height": 288
        },
        "id": "ynCPhLiyzixB",
        "outputId": "b4b2a04a-b1ab-4d3f-db7d-bf4fbe4a9c82"
      },
      "outputs": [
        {
          "output_type": "execute_result",
          "data": {
            "text/plain": [
              "  CATEGORIA               MARCA REST_OA REST_GT REST_AAD REST_AAR REST_AN  \\\n",
              "0   Iogurte  Fazenda Bela Vista     sim     não      sim      não     não   \n",
              "1   Iogurte              Danone     sim     não      sim      não     não   \n",
              "2   Iogurte              Danone     sim     não      sim      não     não   \n",
              "3       Pão         Italianinho     sim     não      sim      não     não   \n",
              "4   Iogurte              Danone     sim     não      sim      não     não   \n",
              "\n",
              "  REST_CN REST_CA REST_PREC SELO_CLEAN SELO_VEGAN SELO_TRANS SELO_ORGANIC  \n",
              "0     não     não       não        não        não        não          não  \n",
              "1     não     não       não        não        não        não          não  \n",
              "2     não     não       não        não        não        não          não  \n",
              "3     não     não       não        não        não        não          não  \n",
              "4     não     não       não        não        não        não          não  "
            ],
            "text/html": [
              "\n",
              "  <div id=\"df-f32b1750-d183-4e23-a0f2-550ac2a4d6a8\">\n",
              "    <div class=\"colab-df-container\">\n",
              "      <div>\n",
              "<style scoped>\n",
              "    .dataframe tbody tr th:only-of-type {\n",
              "        vertical-align: middle;\n",
              "    }\n",
              "\n",
              "    .dataframe tbody tr th {\n",
              "        vertical-align: top;\n",
              "    }\n",
              "\n",
              "    .dataframe thead th {\n",
              "        text-align: right;\n",
              "    }\n",
              "</style>\n",
              "<table border=\"1\" class=\"dataframe\">\n",
              "  <thead>\n",
              "    <tr style=\"text-align: right;\">\n",
              "      <th></th>\n",
              "      <th>CATEGORIA</th>\n",
              "      <th>MARCA</th>\n",
              "      <th>REST_OA</th>\n",
              "      <th>REST_GT</th>\n",
              "      <th>REST_AAD</th>\n",
              "      <th>REST_AAR</th>\n",
              "      <th>REST_AN</th>\n",
              "      <th>REST_CN</th>\n",
              "      <th>REST_CA</th>\n",
              "      <th>REST_PREC</th>\n",
              "      <th>SELO_CLEAN</th>\n",
              "      <th>SELO_VEGAN</th>\n",
              "      <th>SELO_TRANS</th>\n",
              "      <th>SELO_ORGANIC</th>\n",
              "    </tr>\n",
              "  </thead>\n",
              "  <tbody>\n",
              "    <tr>\n",
              "      <th>0</th>\n",
              "      <td>Iogurte</td>\n",
              "      <td>Fazenda Bela Vista</td>\n",
              "      <td>sim</td>\n",
              "      <td>não</td>\n",
              "      <td>sim</td>\n",
              "      <td>não</td>\n",
              "      <td>não</td>\n",
              "      <td>não</td>\n",
              "      <td>não</td>\n",
              "      <td>não</td>\n",
              "      <td>não</td>\n",
              "      <td>não</td>\n",
              "      <td>não</td>\n",
              "      <td>não</td>\n",
              "    </tr>\n",
              "    <tr>\n",
              "      <th>1</th>\n",
              "      <td>Iogurte</td>\n",
              "      <td>Danone</td>\n",
              "      <td>sim</td>\n",
              "      <td>não</td>\n",
              "      <td>sim</td>\n",
              "      <td>não</td>\n",
              "      <td>não</td>\n",
              "      <td>não</td>\n",
              "      <td>não</td>\n",
              "      <td>não</td>\n",
              "      <td>não</td>\n",
              "      <td>não</td>\n",
              "      <td>não</td>\n",
              "      <td>não</td>\n",
              "    </tr>\n",
              "    <tr>\n",
              "      <th>2</th>\n",
              "      <td>Iogurte</td>\n",
              "      <td>Danone</td>\n",
              "      <td>sim</td>\n",
              "      <td>não</td>\n",
              "      <td>sim</td>\n",
              "      <td>não</td>\n",
              "      <td>não</td>\n",
              "      <td>não</td>\n",
              "      <td>não</td>\n",
              "      <td>não</td>\n",
              "      <td>não</td>\n",
              "      <td>não</td>\n",
              "      <td>não</td>\n",
              "      <td>não</td>\n",
              "    </tr>\n",
              "    <tr>\n",
              "      <th>3</th>\n",
              "      <td>Pão</td>\n",
              "      <td>Italianinho</td>\n",
              "      <td>sim</td>\n",
              "      <td>não</td>\n",
              "      <td>sim</td>\n",
              "      <td>não</td>\n",
              "      <td>não</td>\n",
              "      <td>não</td>\n",
              "      <td>não</td>\n",
              "      <td>não</td>\n",
              "      <td>não</td>\n",
              "      <td>não</td>\n",
              "      <td>não</td>\n",
              "      <td>não</td>\n",
              "    </tr>\n",
              "    <tr>\n",
              "      <th>4</th>\n",
              "      <td>Iogurte</td>\n",
              "      <td>Danone</td>\n",
              "      <td>sim</td>\n",
              "      <td>não</td>\n",
              "      <td>sim</td>\n",
              "      <td>não</td>\n",
              "      <td>não</td>\n",
              "      <td>não</td>\n",
              "      <td>não</td>\n",
              "      <td>não</td>\n",
              "      <td>não</td>\n",
              "      <td>não</td>\n",
              "      <td>não</td>\n",
              "      <td>não</td>\n",
              "    </tr>\n",
              "  </tbody>\n",
              "</table>\n",
              "</div>\n",
              "      <button class=\"colab-df-convert\" onclick=\"convertToInteractive('df-f32b1750-d183-4e23-a0f2-550ac2a4d6a8')\"\n",
              "              title=\"Convert this dataframe to an interactive table.\"\n",
              "              style=\"display:none;\">\n",
              "        \n",
              "  <svg xmlns=\"http://www.w3.org/2000/svg\" height=\"24px\"viewBox=\"0 0 24 24\"\n",
              "       width=\"24px\">\n",
              "    <path d=\"M0 0h24v24H0V0z\" fill=\"none\"/>\n",
              "    <path d=\"M18.56 5.44l.94 2.06.94-2.06 2.06-.94-2.06-.94-.94-2.06-.94 2.06-2.06.94zm-11 1L8.5 8.5l.94-2.06 2.06-.94-2.06-.94L8.5 2.5l-.94 2.06-2.06.94zm10 10l.94 2.06.94-2.06 2.06-.94-2.06-.94-.94-2.06-.94 2.06-2.06.94z\"/><path d=\"M17.41 7.96l-1.37-1.37c-.4-.4-.92-.59-1.43-.59-.52 0-1.04.2-1.43.59L10.3 9.45l-7.72 7.72c-.78.78-.78 2.05 0 2.83L4 21.41c.39.39.9.59 1.41.59.51 0 1.02-.2 1.41-.59l7.78-7.78 2.81-2.81c.8-.78.8-2.07 0-2.86zM5.41 20L4 18.59l7.72-7.72 1.47 1.35L5.41 20z\"/>\n",
              "  </svg>\n",
              "      </button>\n",
              "      \n",
              "  <style>\n",
              "    .colab-df-container {\n",
              "      display:flex;\n",
              "      flex-wrap:wrap;\n",
              "      gap: 12px;\n",
              "    }\n",
              "\n",
              "    .colab-df-convert {\n",
              "      background-color: #E8F0FE;\n",
              "      border: none;\n",
              "      border-radius: 50%;\n",
              "      cursor: pointer;\n",
              "      display: none;\n",
              "      fill: #1967D2;\n",
              "      height: 32px;\n",
              "      padding: 0 0 0 0;\n",
              "      width: 32px;\n",
              "    }\n",
              "\n",
              "    .colab-df-convert:hover {\n",
              "      background-color: #E2EBFA;\n",
              "      box-shadow: 0px 1px 2px rgba(60, 64, 67, 0.3), 0px 1px 3px 1px rgba(60, 64, 67, 0.15);\n",
              "      fill: #174EA6;\n",
              "    }\n",
              "\n",
              "    [theme=dark] .colab-df-convert {\n",
              "      background-color: #3B4455;\n",
              "      fill: #D2E3FC;\n",
              "    }\n",
              "\n",
              "    [theme=dark] .colab-df-convert:hover {\n",
              "      background-color: #434B5C;\n",
              "      box-shadow: 0px 1px 3px 1px rgba(0, 0, 0, 0.15);\n",
              "      filter: drop-shadow(0px 1px 2px rgba(0, 0, 0, 0.3));\n",
              "      fill: #FFFFFF;\n",
              "    }\n",
              "  </style>\n",
              "\n",
              "      <script>\n",
              "        const buttonEl =\n",
              "          document.querySelector('#df-f32b1750-d183-4e23-a0f2-550ac2a4d6a8 button.colab-df-convert');\n",
              "        buttonEl.style.display =\n",
              "          google.colab.kernel.accessAllowed ? 'block' : 'none';\n",
              "\n",
              "        async function convertToInteractive(key) {\n",
              "          const element = document.querySelector('#df-f32b1750-d183-4e23-a0f2-550ac2a4d6a8');\n",
              "          const dataTable =\n",
              "            await google.colab.kernel.invokeFunction('convertToInteractive',\n",
              "                                                     [key], {});\n",
              "          if (!dataTable) return;\n",
              "\n",
              "          const docLinkHtml = 'Like what you see? Visit the ' +\n",
              "            '<a target=\"_blank\" href=https://colab.research.google.com/notebooks/data_table.ipynb>data table notebook</a>'\n",
              "            + ' to learn more about interactive tables.';\n",
              "          element.innerHTML = '';\n",
              "          dataTable['output_type'] = 'display_data';\n",
              "          await google.colab.output.renderOutput(dataTable, element);\n",
              "          const docLink = document.createElement('div');\n",
              "          docLink.innerHTML = docLinkHtml;\n",
              "          element.appendChild(docLink);\n",
              "        }\n",
              "      </script>\n",
              "    </div>\n",
              "  </div>\n",
              "  "
            ]
          },
          "metadata": {},
          "execution_count": 4
        }
      ],
      "source": [
        "app.head()\n"
      ]
    },
    {
      "cell_type": "code",
      "source": [
        "app.tail()"
      ],
      "metadata": {
        "colab": {
          "base_uri": "https://localhost:8080/",
          "height": 305
        },
        "id": "n_H6DQFLQCao",
        "outputId": "c92f7c31-bdce-47e5-8dea-57858f571cd1"
      },
      "execution_count": 5,
      "outputs": [
        {
          "output_type": "execute_result",
          "data": {
            "text/plain": [
              "              CATEGORIA        MARCA REST_OA REST_GT REST_AAD REST_AAR  \\\n",
              "8102                Pão   Viva Livre     sim     não      sim      não   \n",
              "8103                Pão     Nutrella     sim     não      não      sim   \n",
              "8104  Pasta de Amendoim     Shambala     não     não      não      não   \n",
              "8105                Pão  Via Delícia     não     não      não      não   \n",
              "8106          Chocolate         Amma     não     não      sim      não   \n",
              "\n",
              "     REST_AN REST_CN REST_CA REST_PREC SELO_CLEAN SELO_VEGAN SELO_TRANS  \\\n",
              "8102     não     não     não       não        não        não        não   \n",
              "8103     não     não     não       não        não        não        não   \n",
              "8104     não     não     não       não        sim        não        não   \n",
              "8105     não     não     não       não        sim        não        não   \n",
              "8106     não     não     não       não        sim        não        não   \n",
              "\n",
              "     SELO_ORGANIC  \n",
              "8102          não  \n",
              "8103          não  \n",
              "8104          não  \n",
              "8105          não  \n",
              "8106          sim  "
            ],
            "text/html": [
              "\n",
              "  <div id=\"df-86647896-b329-46be-b51e-7b7e0c637b31\">\n",
              "    <div class=\"colab-df-container\">\n",
              "      <div>\n",
              "<style scoped>\n",
              "    .dataframe tbody tr th:only-of-type {\n",
              "        vertical-align: middle;\n",
              "    }\n",
              "\n",
              "    .dataframe tbody tr th {\n",
              "        vertical-align: top;\n",
              "    }\n",
              "\n",
              "    .dataframe thead th {\n",
              "        text-align: right;\n",
              "    }\n",
              "</style>\n",
              "<table border=\"1\" class=\"dataframe\">\n",
              "  <thead>\n",
              "    <tr style=\"text-align: right;\">\n",
              "      <th></th>\n",
              "      <th>CATEGORIA</th>\n",
              "      <th>MARCA</th>\n",
              "      <th>REST_OA</th>\n",
              "      <th>REST_GT</th>\n",
              "      <th>REST_AAD</th>\n",
              "      <th>REST_AAR</th>\n",
              "      <th>REST_AN</th>\n",
              "      <th>REST_CN</th>\n",
              "      <th>REST_CA</th>\n",
              "      <th>REST_PREC</th>\n",
              "      <th>SELO_CLEAN</th>\n",
              "      <th>SELO_VEGAN</th>\n",
              "      <th>SELO_TRANS</th>\n",
              "      <th>SELO_ORGANIC</th>\n",
              "    </tr>\n",
              "  </thead>\n",
              "  <tbody>\n",
              "    <tr>\n",
              "      <th>8102</th>\n",
              "      <td>Pão</td>\n",
              "      <td>Viva Livre</td>\n",
              "      <td>sim</td>\n",
              "      <td>não</td>\n",
              "      <td>sim</td>\n",
              "      <td>não</td>\n",
              "      <td>não</td>\n",
              "      <td>não</td>\n",
              "      <td>não</td>\n",
              "      <td>não</td>\n",
              "      <td>não</td>\n",
              "      <td>não</td>\n",
              "      <td>não</td>\n",
              "      <td>não</td>\n",
              "    </tr>\n",
              "    <tr>\n",
              "      <th>8103</th>\n",
              "      <td>Pão</td>\n",
              "      <td>Nutrella</td>\n",
              "      <td>sim</td>\n",
              "      <td>não</td>\n",
              "      <td>não</td>\n",
              "      <td>sim</td>\n",
              "      <td>não</td>\n",
              "      <td>não</td>\n",
              "      <td>não</td>\n",
              "      <td>não</td>\n",
              "      <td>não</td>\n",
              "      <td>não</td>\n",
              "      <td>não</td>\n",
              "      <td>não</td>\n",
              "    </tr>\n",
              "    <tr>\n",
              "      <th>8104</th>\n",
              "      <td>Pasta de Amendoim</td>\n",
              "      <td>Shambala</td>\n",
              "      <td>não</td>\n",
              "      <td>não</td>\n",
              "      <td>não</td>\n",
              "      <td>não</td>\n",
              "      <td>não</td>\n",
              "      <td>não</td>\n",
              "      <td>não</td>\n",
              "      <td>não</td>\n",
              "      <td>sim</td>\n",
              "      <td>não</td>\n",
              "      <td>não</td>\n",
              "      <td>não</td>\n",
              "    </tr>\n",
              "    <tr>\n",
              "      <th>8105</th>\n",
              "      <td>Pão</td>\n",
              "      <td>Via Delícia</td>\n",
              "      <td>não</td>\n",
              "      <td>não</td>\n",
              "      <td>não</td>\n",
              "      <td>não</td>\n",
              "      <td>não</td>\n",
              "      <td>não</td>\n",
              "      <td>não</td>\n",
              "      <td>não</td>\n",
              "      <td>sim</td>\n",
              "      <td>não</td>\n",
              "      <td>não</td>\n",
              "      <td>não</td>\n",
              "    </tr>\n",
              "    <tr>\n",
              "      <th>8106</th>\n",
              "      <td>Chocolate</td>\n",
              "      <td>Amma</td>\n",
              "      <td>não</td>\n",
              "      <td>não</td>\n",
              "      <td>sim</td>\n",
              "      <td>não</td>\n",
              "      <td>não</td>\n",
              "      <td>não</td>\n",
              "      <td>não</td>\n",
              "      <td>não</td>\n",
              "      <td>sim</td>\n",
              "      <td>não</td>\n",
              "      <td>não</td>\n",
              "      <td>sim</td>\n",
              "    </tr>\n",
              "  </tbody>\n",
              "</table>\n",
              "</div>\n",
              "      <button class=\"colab-df-convert\" onclick=\"convertToInteractive('df-86647896-b329-46be-b51e-7b7e0c637b31')\"\n",
              "              title=\"Convert this dataframe to an interactive table.\"\n",
              "              style=\"display:none;\">\n",
              "        \n",
              "  <svg xmlns=\"http://www.w3.org/2000/svg\" height=\"24px\"viewBox=\"0 0 24 24\"\n",
              "       width=\"24px\">\n",
              "    <path d=\"M0 0h24v24H0V0z\" fill=\"none\"/>\n",
              "    <path d=\"M18.56 5.44l.94 2.06.94-2.06 2.06-.94-2.06-.94-.94-2.06-.94 2.06-2.06.94zm-11 1L8.5 8.5l.94-2.06 2.06-.94-2.06-.94L8.5 2.5l-.94 2.06-2.06.94zm10 10l.94 2.06.94-2.06 2.06-.94-2.06-.94-.94-2.06-.94 2.06-2.06.94z\"/><path d=\"M17.41 7.96l-1.37-1.37c-.4-.4-.92-.59-1.43-.59-.52 0-1.04.2-1.43.59L10.3 9.45l-7.72 7.72c-.78.78-.78 2.05 0 2.83L4 21.41c.39.39.9.59 1.41.59.51 0 1.02-.2 1.41-.59l7.78-7.78 2.81-2.81c.8-.78.8-2.07 0-2.86zM5.41 20L4 18.59l7.72-7.72 1.47 1.35L5.41 20z\"/>\n",
              "  </svg>\n",
              "      </button>\n",
              "      \n",
              "  <style>\n",
              "    .colab-df-container {\n",
              "      display:flex;\n",
              "      flex-wrap:wrap;\n",
              "      gap: 12px;\n",
              "    }\n",
              "\n",
              "    .colab-df-convert {\n",
              "      background-color: #E8F0FE;\n",
              "      border: none;\n",
              "      border-radius: 50%;\n",
              "      cursor: pointer;\n",
              "      display: none;\n",
              "      fill: #1967D2;\n",
              "      height: 32px;\n",
              "      padding: 0 0 0 0;\n",
              "      width: 32px;\n",
              "    }\n",
              "\n",
              "    .colab-df-convert:hover {\n",
              "      background-color: #E2EBFA;\n",
              "      box-shadow: 0px 1px 2px rgba(60, 64, 67, 0.3), 0px 1px 3px 1px rgba(60, 64, 67, 0.15);\n",
              "      fill: #174EA6;\n",
              "    }\n",
              "\n",
              "    [theme=dark] .colab-df-convert {\n",
              "      background-color: #3B4455;\n",
              "      fill: #D2E3FC;\n",
              "    }\n",
              "\n",
              "    [theme=dark] .colab-df-convert:hover {\n",
              "      background-color: #434B5C;\n",
              "      box-shadow: 0px 1px 3px 1px rgba(0, 0, 0, 0.15);\n",
              "      filter: drop-shadow(0px 1px 2px rgba(0, 0, 0, 0.3));\n",
              "      fill: #FFFFFF;\n",
              "    }\n",
              "  </style>\n",
              "\n",
              "      <script>\n",
              "        const buttonEl =\n",
              "          document.querySelector('#df-86647896-b329-46be-b51e-7b7e0c637b31 button.colab-df-convert');\n",
              "        buttonEl.style.display =\n",
              "          google.colab.kernel.accessAllowed ? 'block' : 'none';\n",
              "\n",
              "        async function convertToInteractive(key) {\n",
              "          const element = document.querySelector('#df-86647896-b329-46be-b51e-7b7e0c637b31');\n",
              "          const dataTable =\n",
              "            await google.colab.kernel.invokeFunction('convertToInteractive',\n",
              "                                                     [key], {});\n",
              "          if (!dataTable) return;\n",
              "\n",
              "          const docLinkHtml = 'Like what you see? Visit the ' +\n",
              "            '<a target=\"_blank\" href=https://colab.research.google.com/notebooks/data_table.ipynb>data table notebook</a>'\n",
              "            + ' to learn more about interactive tables.';\n",
              "          element.innerHTML = '';\n",
              "          dataTable['output_type'] = 'display_data';\n",
              "          await google.colab.output.renderOutput(dataTable, element);\n",
              "          const docLink = document.createElement('div');\n",
              "          docLink.innerHTML = docLinkHtml;\n",
              "          element.appendChild(docLink);\n",
              "        }\n",
              "      </script>\n",
              "    </div>\n",
              "  </div>\n",
              "  "
            ]
          },
          "metadata": {},
          "execution_count": 5
        }
      ]
    },
    {
      "cell_type": "markdown",
      "source": [
        "Os dados estão todos corretos."
      ],
      "metadata": {
        "id": "9RPoe4z7Vxbm"
      }
    },
    {
      "cell_type": "code",
      "execution_count": 6,
      "metadata": {
        "colab": {
          "base_uri": "https://localhost:8080/"
        },
        "id": "Ih3jEZfM9WFo",
        "outputId": "102bca61-43f3-4820-ad02-a56ace5a5850"
      },
      "outputs": [
        {
          "output_type": "stream",
          "name": "stdout",
          "text": [
            "<class 'pandas.core.frame.DataFrame'>\n",
            "RangeIndex: 8107 entries, 0 to 8106\n",
            "Data columns (total 14 columns):\n",
            " #   Column        Non-Null Count  Dtype \n",
            "---  ------        --------------  ----- \n",
            " 0   CATEGORIA     8107 non-null   object\n",
            " 1   MARCA         8107 non-null   object\n",
            " 2   REST_OA       8107 non-null   object\n",
            " 3   REST_GT       8107 non-null   object\n",
            " 4   REST_AAD      8107 non-null   object\n",
            " 5   REST_AAR      8107 non-null   object\n",
            " 6   REST_AN       8107 non-null   object\n",
            " 7   REST_CN       8107 non-null   object\n",
            " 8   REST_CA       8107 non-null   object\n",
            " 9   REST_PREC     8107 non-null   object\n",
            " 10  SELO_CLEAN    8107 non-null   object\n",
            " 11  SELO_VEGAN    8107 non-null   object\n",
            " 12  SELO_TRANS    8107 non-null   object\n",
            " 13  SELO_ORGANIC  8107 non-null   object\n",
            "dtypes: object(14)\n",
            "memory usage: 886.8+ KB\n"
          ]
        }
      ],
      "source": [
        "app.info()"
      ]
    },
    {
      "cell_type": "markdown",
      "metadata": {
        "id": "xpAV2-TmdwPp"
      },
      "source": [
        "Não existem missing values e todos os dados são do tipo \"object\" (categóricos).\n",
        "\n",
        "\n",
        "\n"
      ]
    },
    {
      "cell_type": "code",
      "execution_count": 7,
      "metadata": {
        "colab": {
          "base_uri": "https://localhost:8080/"
        },
        "id": "stu-dMjcjVnk",
        "outputId": "4d8dfee3-0dd7-4331-fb04-86e41605f4d1"
      },
      "outputs": [
        {
          "output_type": "execute_result",
          "data": {
            "text/plain": [
              "Index(['CATEGORIA', 'MARCA', 'REST_OA', 'REST_GT', 'REST_AAD', 'REST_AAR',\n",
              "       'REST_AN', 'REST_CN', 'REST_CA', 'REST_PREC', 'SELO_CLEAN',\n",
              "       'SELO_VEGAN', 'SELO_TRANS', 'SELO_ORGANIC'],\n",
              "      dtype='object')"
            ]
          },
          "metadata": {},
          "execution_count": 7
        }
      ],
      "source": [
        "app.columns"
      ]
    },
    {
      "cell_type": "code",
      "execution_count": 8,
      "metadata": {
        "colab": {
          "base_uri": "https://localhost:8080/",
          "height": 488
        },
        "id": "2om48yIPkT5Y",
        "outputId": "0c71b9b9-09e6-41f6-f87f-d81030b2434b"
      },
      "outputs": [
        {
          "output_type": "execute_result",
          "data": {
            "text/plain": [
              "             count unique        top  freq\n",
              "CATEGORIA     8107      6  Chocolate  2311\n",
              "MARCA         8107   1781     Nestlé   208\n",
              "REST_OA       8107      2        sim  6654\n",
              "REST_GT       8107      2        não  6637\n",
              "REST_AAD      8107      2        sim  4998\n",
              "REST_AAR      8107      2        não  7529\n",
              "REST_AN       8107      2        não  7087\n",
              "REST_CN       8107      2        não  7446\n",
              "REST_CA       8107      2        não  7713\n",
              "REST_PREC     8107      2        não  7475\n",
              "SELO_CLEAN    8107      2        não  6705\n",
              "SELO_VEGAN    8107      2        não  8055\n",
              "SELO_TRANS    8107      2        não  8053\n",
              "SELO_ORGANIC  8107      2        não  7924"
            ],
            "text/html": [
              "\n",
              "  <div id=\"df-cf4e4bfd-54dc-4ba0-b582-f2152e28bdf6\">\n",
              "    <div class=\"colab-df-container\">\n",
              "      <div>\n",
              "<style scoped>\n",
              "    .dataframe tbody tr th:only-of-type {\n",
              "        vertical-align: middle;\n",
              "    }\n",
              "\n",
              "    .dataframe tbody tr th {\n",
              "        vertical-align: top;\n",
              "    }\n",
              "\n",
              "    .dataframe thead th {\n",
              "        text-align: right;\n",
              "    }\n",
              "</style>\n",
              "<table border=\"1\" class=\"dataframe\">\n",
              "  <thead>\n",
              "    <tr style=\"text-align: right;\">\n",
              "      <th></th>\n",
              "      <th>count</th>\n",
              "      <th>unique</th>\n",
              "      <th>top</th>\n",
              "      <th>freq</th>\n",
              "    </tr>\n",
              "  </thead>\n",
              "  <tbody>\n",
              "    <tr>\n",
              "      <th>CATEGORIA</th>\n",
              "      <td>8107</td>\n",
              "      <td>6</td>\n",
              "      <td>Chocolate</td>\n",
              "      <td>2311</td>\n",
              "    </tr>\n",
              "    <tr>\n",
              "      <th>MARCA</th>\n",
              "      <td>8107</td>\n",
              "      <td>1781</td>\n",
              "      <td>Nestlé</td>\n",
              "      <td>208</td>\n",
              "    </tr>\n",
              "    <tr>\n",
              "      <th>REST_OA</th>\n",
              "      <td>8107</td>\n",
              "      <td>2</td>\n",
              "      <td>sim</td>\n",
              "      <td>6654</td>\n",
              "    </tr>\n",
              "    <tr>\n",
              "      <th>REST_GT</th>\n",
              "      <td>8107</td>\n",
              "      <td>2</td>\n",
              "      <td>não</td>\n",
              "      <td>6637</td>\n",
              "    </tr>\n",
              "    <tr>\n",
              "      <th>REST_AAD</th>\n",
              "      <td>8107</td>\n",
              "      <td>2</td>\n",
              "      <td>sim</td>\n",
              "      <td>4998</td>\n",
              "    </tr>\n",
              "    <tr>\n",
              "      <th>REST_AAR</th>\n",
              "      <td>8107</td>\n",
              "      <td>2</td>\n",
              "      <td>não</td>\n",
              "      <td>7529</td>\n",
              "    </tr>\n",
              "    <tr>\n",
              "      <th>REST_AN</th>\n",
              "      <td>8107</td>\n",
              "      <td>2</td>\n",
              "      <td>não</td>\n",
              "      <td>7087</td>\n",
              "    </tr>\n",
              "    <tr>\n",
              "      <th>REST_CN</th>\n",
              "      <td>8107</td>\n",
              "      <td>2</td>\n",
              "      <td>não</td>\n",
              "      <td>7446</td>\n",
              "    </tr>\n",
              "    <tr>\n",
              "      <th>REST_CA</th>\n",
              "      <td>8107</td>\n",
              "      <td>2</td>\n",
              "      <td>não</td>\n",
              "      <td>7713</td>\n",
              "    </tr>\n",
              "    <tr>\n",
              "      <th>REST_PREC</th>\n",
              "      <td>8107</td>\n",
              "      <td>2</td>\n",
              "      <td>não</td>\n",
              "      <td>7475</td>\n",
              "    </tr>\n",
              "    <tr>\n",
              "      <th>SELO_CLEAN</th>\n",
              "      <td>8107</td>\n",
              "      <td>2</td>\n",
              "      <td>não</td>\n",
              "      <td>6705</td>\n",
              "    </tr>\n",
              "    <tr>\n",
              "      <th>SELO_VEGAN</th>\n",
              "      <td>8107</td>\n",
              "      <td>2</td>\n",
              "      <td>não</td>\n",
              "      <td>8055</td>\n",
              "    </tr>\n",
              "    <tr>\n",
              "      <th>SELO_TRANS</th>\n",
              "      <td>8107</td>\n",
              "      <td>2</td>\n",
              "      <td>não</td>\n",
              "      <td>8053</td>\n",
              "    </tr>\n",
              "    <tr>\n",
              "      <th>SELO_ORGANIC</th>\n",
              "      <td>8107</td>\n",
              "      <td>2</td>\n",
              "      <td>não</td>\n",
              "      <td>7924</td>\n",
              "    </tr>\n",
              "  </tbody>\n",
              "</table>\n",
              "</div>\n",
              "      <button class=\"colab-df-convert\" onclick=\"convertToInteractive('df-cf4e4bfd-54dc-4ba0-b582-f2152e28bdf6')\"\n",
              "              title=\"Convert this dataframe to an interactive table.\"\n",
              "              style=\"display:none;\">\n",
              "        \n",
              "  <svg xmlns=\"http://www.w3.org/2000/svg\" height=\"24px\"viewBox=\"0 0 24 24\"\n",
              "       width=\"24px\">\n",
              "    <path d=\"M0 0h24v24H0V0z\" fill=\"none\"/>\n",
              "    <path d=\"M18.56 5.44l.94 2.06.94-2.06 2.06-.94-2.06-.94-.94-2.06-.94 2.06-2.06.94zm-11 1L8.5 8.5l.94-2.06 2.06-.94-2.06-.94L8.5 2.5l-.94 2.06-2.06.94zm10 10l.94 2.06.94-2.06 2.06-.94-2.06-.94-.94-2.06-.94 2.06-2.06.94z\"/><path d=\"M17.41 7.96l-1.37-1.37c-.4-.4-.92-.59-1.43-.59-.52 0-1.04.2-1.43.59L10.3 9.45l-7.72 7.72c-.78.78-.78 2.05 0 2.83L4 21.41c.39.39.9.59 1.41.59.51 0 1.02-.2 1.41-.59l7.78-7.78 2.81-2.81c.8-.78.8-2.07 0-2.86zM5.41 20L4 18.59l7.72-7.72 1.47 1.35L5.41 20z\"/>\n",
              "  </svg>\n",
              "      </button>\n",
              "      \n",
              "  <style>\n",
              "    .colab-df-container {\n",
              "      display:flex;\n",
              "      flex-wrap:wrap;\n",
              "      gap: 12px;\n",
              "    }\n",
              "\n",
              "    .colab-df-convert {\n",
              "      background-color: #E8F0FE;\n",
              "      border: none;\n",
              "      border-radius: 50%;\n",
              "      cursor: pointer;\n",
              "      display: none;\n",
              "      fill: #1967D2;\n",
              "      height: 32px;\n",
              "      padding: 0 0 0 0;\n",
              "      width: 32px;\n",
              "    }\n",
              "\n",
              "    .colab-df-convert:hover {\n",
              "      background-color: #E2EBFA;\n",
              "      box-shadow: 0px 1px 2px rgba(60, 64, 67, 0.3), 0px 1px 3px 1px rgba(60, 64, 67, 0.15);\n",
              "      fill: #174EA6;\n",
              "    }\n",
              "\n",
              "    [theme=dark] .colab-df-convert {\n",
              "      background-color: #3B4455;\n",
              "      fill: #D2E3FC;\n",
              "    }\n",
              "\n",
              "    [theme=dark] .colab-df-convert:hover {\n",
              "      background-color: #434B5C;\n",
              "      box-shadow: 0px 1px 3px 1px rgba(0, 0, 0, 0.15);\n",
              "      filter: drop-shadow(0px 1px 2px rgba(0, 0, 0, 0.3));\n",
              "      fill: #FFFFFF;\n",
              "    }\n",
              "  </style>\n",
              "\n",
              "      <script>\n",
              "        const buttonEl =\n",
              "          document.querySelector('#df-cf4e4bfd-54dc-4ba0-b582-f2152e28bdf6 button.colab-df-convert');\n",
              "        buttonEl.style.display =\n",
              "          google.colab.kernel.accessAllowed ? 'block' : 'none';\n",
              "\n",
              "        async function convertToInteractive(key) {\n",
              "          const element = document.querySelector('#df-cf4e4bfd-54dc-4ba0-b582-f2152e28bdf6');\n",
              "          const dataTable =\n",
              "            await google.colab.kernel.invokeFunction('convertToInteractive',\n",
              "                                                     [key], {});\n",
              "          if (!dataTable) return;\n",
              "\n",
              "          const docLinkHtml = 'Like what you see? Visit the ' +\n",
              "            '<a target=\"_blank\" href=https://colab.research.google.com/notebooks/data_table.ipynb>data table notebook</a>'\n",
              "            + ' to learn more about interactive tables.';\n",
              "          element.innerHTML = '';\n",
              "          dataTable['output_type'] = 'display_data';\n",
              "          await google.colab.output.renderOutput(dataTable, element);\n",
              "          const docLink = document.createElement('div');\n",
              "          docLink.innerHTML = docLinkHtml;\n",
              "          element.appendChild(docLink);\n",
              "        }\n",
              "      </script>\n",
              "    </div>\n",
              "  </div>\n",
              "  "
            ]
          },
          "metadata": {},
          "execution_count": 8
        }
      ],
      "source": [
        "app.describe(include='all').T"
      ]
    },
    {
      "cell_type": "markdown",
      "source": [
        "A variável MARCA apresenta o maior número de variáveis únicas, seguido de CATEGORIA. AÇÚCAR ADICIONADO e ORIGEM ANIMAL são as  restrições alimentares mais frequentes. Selo CLEAN LABEL com maior ocorrência entre os dados de selo nutricionais dos itens analisados. Abaixo, algumas visualizações específicas de dados. "
      ],
      "metadata": {
        "id": "y8xNL5AmMXVZ"
      }
    },
    {
      "cell_type": "code",
      "source": [
        "mask = app['CATEGORIA'].value_counts()\n",
        "df_10 = app[app['CATEGORIA'].isin(mask.index[mask > 10])]"
      ],
      "metadata": {
        "id": "rgjz_GuW9n0n"
      },
      "execution_count": 9,
      "outputs": []
    },
    {
      "cell_type": "code",
      "execution_count": 10,
      "metadata": {
        "colab": {
          "base_uri": "https://localhost:8080/"
        },
        "id": "6W1wpFnup-RK",
        "outputId": "c3ef0215-a92c-4b3c-f4cf-2e212c5cc670"
      },
      "outputs": [
        {
          "output_type": "execute_result",
          "data": {
            "text/plain": [
              "Chocolate            2311\n",
              "Pão                  2231\n",
              "Iogurte              1354\n",
              "Leite                 846\n",
              "Molho de Tomate       745\n",
              "Pasta de Amendoim     620\n",
              "Name: CATEGORIA, dtype: int64"
            ]
          },
          "metadata": {},
          "execution_count": 10
        }
      ],
      "source": [
        "app[\"CATEGORIA\"].value_counts()"
      ]
    },
    {
      "cell_type": "code",
      "source": [
        "values = df_10['CATEGORIA'].value_counts()\n",
        "plt.figure(figsize=(8,6))\n",
        "values.plot(kind='pie',fontsize=12, autopct='%.1f')\n",
        "plt.show()"
      ],
      "metadata": {
        "colab": {
          "base_uri": "https://localhost:8080/",
          "height": 357
        },
        "id": "2fjNg1Op96wd",
        "outputId": "8bfecfb3-085d-4065-d9da-30bcf3e57963"
      },
      "execution_count": 11,
      "outputs": [
        {
          "output_type": "display_data",
          "data": {
            "text/plain": [
              "<Figure size 576x432 with 1 Axes>"
            ],
            "image/png": "[encoded data removed]"
          },
          "metadata": {}
        }
      ]
    },
    {
      "cell_type": "markdown",
      "metadata": {
        "id": "2fProxJGKocM"
      },
      "source": [
        "\"CHOCOLATE\" e \"PÃO\" com a maior representatividade entre as categorias: 28,5% e 27,5% dos itens, respectivamente."
      ]
    },
    {
      "cell_type": "code",
      "execution_count": 12,
      "metadata": {
        "colab": {
          "base_uri": "https://localhost:8080/"
        },
        "id": "DzUpuo2tqD9h",
        "outputId": "e0254dbf-f335-4141-ed59-ade47d71cb9f"
      },
      "outputs": [
        {
          "output_type": "execute_result",
          "data": {
            "text/plain": [
              "Nestlé        208\n",
              "Cacau Show    117\n",
              "Itambé        103\n",
              "Danone         96\n",
              "Vigor          94\n",
              "             ... \n",
              "Aipï            1\n",
              "PanDão          1\n",
              "Kero Kero       1\n",
              "Bom Cacau       1\n",
              "Shambala        1\n",
              "Name: MARCA, Length: 1781, dtype: int64"
            ]
          },
          "metadata": {},
          "execution_count": 12
        }
      ],
      "source": [
        "app[\"MARCA\"].value_counts()"
      ]
    },
    {
      "cell_type": "markdown",
      "metadata": {
        "id": "coQBoTZePLQh"
      },
      "source": [
        "Marcas \"Nestlé\", \"Cacau Show\" e \"Itambé\" com maior número de itens cadastrados - 12%, 7% e 3% do total de marcas. "
      ]
    },
    {
      "cell_type": "code",
      "source": [
        "mask = app['REST_AAD'].value_counts()\n",
        "ad = app[app['REST_AAD'].isin(mask.index[mask > 10])]"
      ],
      "metadata": {
        "id": "9ix9fypLowfn"
      },
      "execution_count": 13,
      "outputs": []
    },
    {
      "cell_type": "code",
      "source": [
        "app['REST_AAD'].value_counts()\n"
      ],
      "metadata": {
        "colab": {
          "base_uri": "https://localhost:8080/"
        },
        "id": "LC3OeRvxmhZ6",
        "outputId": "6db4fc7a-df6d-4bc3-ab1a-63fefc18aba4"
      },
      "execution_count": 14,
      "outputs": [
        {
          "output_type": "execute_result",
          "data": {
            "text/plain": [
              "sim    4998\n",
              "não    3109\n",
              "Name: REST_AAD, dtype: int64"
            ]
          },
          "metadata": {},
          "execution_count": 14
        }
      ]
    },
    {
      "cell_type": "code",
      "source": [
        "from pandas.io.pytables import adjoin\n",
        "values = ad['REST_AAD'].value_counts()\n",
        "plt.figure(figsize=(8,6))\n",
        "values.plot(kind='pie',fontsize=12, autopct='%.1f')\n",
        "plt.show()"
      ],
      "metadata": {
        "colab": {
          "base_uri": "https://localhost:8080/",
          "height": 357
        },
        "id": "_MeDi6GCfS9i",
        "outputId": "86119623-11ba-4af1-b9c5-85c1eae443ca"
      },
      "execution_count": 15,
      "outputs": [
        {
          "output_type": "display_data",
          "data": {
            "text/plain": [
              "<Figure size 576x432 with 1 Axes>"
            ],
            "image/png": "[encoded data removed]"
          },
          "metadata": {}
        }
      ]
    },
    {
      "cell_type": "markdown",
      "source": [
        "61,7% dos produtos possuem a variável \"AÇÚCAR ADICIONADO\"."
      ],
      "metadata": {
        "id": "9EloCPvlpEHI"
      }
    },
    {
      "cell_type": "code",
      "source": [
        "mask = app['REST_OA'].value_counts()\n",
        "org = app[app['REST_OA'].isin(mask.index[mask > 10])]"
      ],
      "metadata": {
        "id": "9DupabRipMvi"
      },
      "execution_count": 16,
      "outputs": []
    },
    {
      "cell_type": "code",
      "source": [
        "app['REST_OA'].value_counts()"
      ],
      "metadata": {
        "colab": {
          "base_uri": "https://localhost:8080/"
        },
        "id": "0Y5sa68gpMe0",
        "outputId": "01c700dc-66fc-4891-9cfd-b5c49bdec79c"
      },
      "execution_count": 17,
      "outputs": [
        {
          "output_type": "execute_result",
          "data": {
            "text/plain": [
              "sim    6654\n",
              "não    1453\n",
              "Name: REST_OA, dtype: int64"
            ]
          },
          "metadata": {},
          "execution_count": 17
        }
      ]
    },
    {
      "cell_type": "code",
      "source": [
        "values = org['REST_OA'].value_counts()\n",
        "plt.figure(figsize=(8,6))\n",
        "values.plot(kind='pie',fontsize=12, autopct='%.1f')\n",
        "plt.show()"
      ],
      "metadata": {
        "colab": {
          "base_uri": "https://localhost:8080/",
          "height": 357
        },
        "id": "JwBpRcJTp9Rd",
        "outputId": "5ea31bba-a649-4ece-9bc9-9c0bb85d3fb6"
      },
      "execution_count": 18,
      "outputs": [
        {
          "output_type": "display_data",
          "data": {
            "text/plain": [
              "<Figure size 576x432 with 1 Axes>"
            ],
            "image/png": "[encoded data removed]"
          },
          "metadata": {}
        }
      ]
    },
    {
      "cell_type": "markdown",
      "source": [
        "82,1% dos produtos possuem a variável \"ORIGEM ANIMAL\"."
      ],
      "metadata": {
        "id": "3PskQu3asjke"
      }
    },
    {
      "cell_type": "code",
      "source": [
        "mask = app['SELO_CLEAN'].value_counts()\n",
        "clean = app[app['SELO_CLEAN'].isin(mask.index[mask > 10])]\n",
        "clean['SELO_CLEAN'].value_counts()"
      ],
      "metadata": {
        "colab": {
          "base_uri": "https://localhost:8080/"
        },
        "id": "i8NJdl29swXY",
        "outputId": "8f7dbb3c-8df9-4023-a861-4e44330b65c6"
      },
      "execution_count": 19,
      "outputs": [
        {
          "output_type": "execute_result",
          "data": {
            "text/plain": [
              "não    6705\n",
              "sim    1402\n",
              "Name: SELO_CLEAN, dtype: int64"
            ]
          },
          "metadata": {},
          "execution_count": 19
        }
      ]
    },
    {
      "cell_type": "code",
      "source": [
        "values = clean['SELO_CLEAN'].value_counts()\n",
        "plt.figure(figsize=(8,6))\n",
        "values.plot(kind='pie',fontsize=12, autopct='%.1f')\n",
        "plt.show()"
      ],
      "metadata": {
        "colab": {
          "base_uri": "https://localhost:8080/",
          "height": 357
        },
        "id": "Gj5yv-SJtIWm",
        "outputId": "1c2ff70b-d731-48e4-cc9f-63f7bbe0f65b"
      },
      "execution_count": 20,
      "outputs": [
        {
          "output_type": "display_data",
          "data": {
            "text/plain": [
              "<Figure size 576x432 with 1 Axes>"
            ],
            "image/png": "[encoded data removed]"
          },
          "metadata": {}
        }
      ]
    },
    {
      "cell_type": "markdown",
      "source": [
        "17,3% dos produtos possuem o selo \"CLEAN LABEL\"."
      ],
      "metadata": {
        "id": "rZdinrIgtSC4"
      }
    },
    {
      "cell_type": "markdown",
      "source": [
        "Na próxima seção, vamos preparar os dados para o início da nossa fase de análise. "
      ],
      "metadata": {
        "id": "iKK8sLF1tY5n"
      }
    },
    {
      "cell_type": "markdown",
      "metadata": {
        "id": "EEI2eQ8OHE5L"
      },
      "source": [
        "#Transformando Variáveis Categóricas em Numéricas (Label Encoder)"
      ]
    },
    {
      "cell_type": "markdown",
      "source": [
        "Para o desenvolvimento das análises, vamos transformar os dados categóricos em numéricos."
      ],
      "metadata": {
        "id": "Hkk3m1aAN3rO"
      }
    },
    {
      "cell_type": "code",
      "execution_count": 21,
      "metadata": {
        "id": "jwMtjkxQAXP2"
      },
      "outputs": [],
      "source": [
        "from nltk.classify.scikitlearn import LabelEncoder\n",
        "#Transformar em variável numérica\n",
        "from sklearn import preprocessing\n",
        "for variaveis in ['CATEGORIA', 'MARCA','REST_OA', 'REST_GT', 'REST_AAD', 'REST_AAR','REST_AN','REST_CN', 'REST_CA', 'REST_PREC', 'SELO_CLEAN', 'SELO_VEGAN', 'SELO_TRANS', 'SELO_ORGANIC']:\n",
        "  app[variaveis] = LabelEncoder().fit_transform(app[variaveis])"
      ]
    },
    {
      "cell_type": "code",
      "execution_count": 22,
      "metadata": {
        "colab": {
          "base_uri": "https://localhost:8080/"
        },
        "id": "njDTS14_Bsij",
        "outputId": "537c4a5a-f1b5-418f-c483-d63fba5dff02"
      },
      "outputs": [
        {
          "output_type": "execute_result",
          "data": {
            "text/plain": [
              "CATEGORIA  MARCA  REST_OA  REST_GT  REST_AAD  REST_AAR  REST_AN  REST_CN  REST_CA  REST_PREC  SELO_CLEAN  SELO_VEGAN  SELO_TRANS  SELO_ORGANIC\n",
              "0          642    1        1        1         0         0        0        0        0          0           0           0           0               72\n",
              "           1054   1        1        1         0         0        0        0        0          0           0           0           0               67\n",
              "           821    1        1        1         0         0        0        0        0          0           0           0           0               61\n",
              "           230    1        0        1         0         0        0        0        0          0           0           0           0               60\n",
              "           868    1        0        1         0         0        0        0        0          0           0           0           0               60\n",
              "                                                                                                                                                  ..\n",
              "2          1619   1        0        0         0         0        0        0        0          1           0           0           0                1\n",
              "           1623   1        0        0         0         0        0        0        0          1           0           0           0                1\n",
              "           1630   1        0        0         0         0        0        0        0          0           0           0           0                1\n",
              "           1631   1        0        0         0         0        0        0        0          0           0           0           0                1\n",
              "3          707    1        0        1         0         0        0        0        0          0           0           0           0                1\n",
              "Length: 3298, dtype: int64"
            ]
          },
          "metadata": {},
          "execution_count": 22
        }
      ],
      "source": [
        "app.value_counts()"
      ]
    },
    {
      "cell_type": "markdown",
      "source": [
        "Parece que a conversão foi bem sucedida. Vamos fazer mais alguns testes abaixo."
      ],
      "metadata": {
        "id": "u-VxVUnSPMNc"
      }
    },
    {
      "cell_type": "code",
      "source": [
        "app.CATEGORIA.value_counts()"
      ],
      "metadata": {
        "colab": {
          "base_uri": "https://localhost:8080/"
        },
        "id": "FQDK5Qpu18nX",
        "outputId": "3ae5beea-94b1-42ff-a428-8960f86b7a85"
      },
      "execution_count": 23,
      "outputs": [
        {
          "output_type": "execute_result",
          "data": {
            "text/plain": [
              "0    2311\n",
              "5    2231\n",
              "1    1354\n",
              "2     846\n",
              "3     745\n",
              "4     620\n",
              "Name: CATEGORIA, dtype: int64"
            ]
          },
          "metadata": {},
          "execution_count": 23
        }
      ]
    },
    {
      "cell_type": "code",
      "execution_count": 24,
      "metadata": {
        "colab": {
          "base_uri": "https://localhost:8080/"
        },
        "id": "0LynX4hrDSCf",
        "outputId": "db1125f0-82a5-4bc7-e7f9-4720270ba638"
      },
      "outputs": [
        {
          "output_type": "execute_result",
          "data": {
            "text/plain": [
              "1054    208\n",
              "230     117\n",
              "756     103\n",
              "436      96\n",
              "1702     94\n",
              "       ... \n",
              "27        1\n",
              "1167      1\n",
              "794       1\n",
              "185       1\n",
              "1518      1\n",
              "Name: MARCA, Length: 1781, dtype: int64"
            ]
          },
          "metadata": {},
          "execution_count": 24
        }
      ],
      "source": [
        "app.MARCA.value_counts()"
      ]
    },
    {
      "cell_type": "code",
      "execution_count": 25,
      "metadata": {
        "colab": {
          "base_uri": "https://localhost:8080/"
        },
        "id": "V3HCRB3sJKFB",
        "outputId": "b9e47ddc-1632-4d72-f517-15be0324be60"
      },
      "outputs": [
        {
          "output_type": "execute_result",
          "data": {
            "text/plain": [
              "1    6654\n",
              "0    1453\n",
              "Name: REST_OA, dtype: int64"
            ]
          },
          "metadata": {},
          "execution_count": 25
        }
      ],
      "source": [
        "app.REST_OA.value_counts()"
      ]
    },
    {
      "cell_type": "code",
      "source": [
        "app.SELO_CLEAN.value_counts()"
      ],
      "metadata": {
        "colab": {
          "base_uri": "https://localhost:8080/"
        },
        "id": "I_B-0fPCOZxQ",
        "outputId": "557141f8-f48e-499c-85f3-e91692f0eb41"
      },
      "execution_count": 26,
      "outputs": [
        {
          "output_type": "execute_result",
          "data": {
            "text/plain": [
              "0    6705\n",
              "1    1402\n",
              "Name: SELO_CLEAN, dtype: int64"
            ]
          },
          "metadata": {},
          "execution_count": 26
        }
      ]
    },
    {
      "cell_type": "markdown",
      "source": [
        "Os exemplos acima estão corretos, sem valores faltantes. Podemos, então, iniciar nossa análise."
      ],
      "metadata": {
        "id": "gxuMSjgEPW5H"
      }
    },
    {
      "cell_type": "markdown",
      "metadata": {
        "id": "nV0vaMijh5JB"
      },
      "source": [
        "#Correlações "
      ]
    },
    {
      "cell_type": "markdown",
      "source": [
        "Agora que as variáveis foram convertidas para o formato numérico, vamos avaliar suas correlações."
      ],
      "metadata": {
        "id": "7xivS0OVBot2"
      }
    },
    {
      "cell_type": "code",
      "execution_count": 27,
      "metadata": {
        "colab": {
          "base_uri": "https://localhost:8080/"
        },
        "id": "3iwc87i6G0nw",
        "outputId": "4c9d33ed-5ac2-437c-9beb-930fdad066e0"
      },
      "outputs": [
        {
          "output_type": "stream",
          "name": "stdout",
          "text": [
            "              CATEGORIA     MARCA   REST_OA   REST_GT  REST_AAD  REST_AAR  \\\n",
            "CATEGORIA      1.000000  0.134933 -0.194744  0.022225 -0.048256 -0.063352   \n",
            "MARCA          0.134933  1.000000 -0.010328 -0.005441  0.013228  0.011587   \n",
            "REST_OA       -0.194744 -0.010328  1.000000  0.184027  0.144706  0.103229   \n",
            "REST_GT        0.022225 -0.005441  0.184027  1.000000  0.269124 -0.064456   \n",
            "REST_AAD      -0.048256  0.013228  0.144706  0.269124  1.000000 -0.206381   \n",
            "REST_AAR      -0.063352  0.011587  0.103229 -0.064456 -0.206381  1.000000   \n",
            "REST_AN       -0.193186 -0.024183  0.078367 -0.026983 -0.338736  0.236006   \n",
            "REST_CN       -0.192871 -0.002459  0.135704 -0.074706  0.123749  0.146922   \n",
            "REST_CA       -0.119504 -0.013943  0.104120  0.003809  0.120450  0.066677   \n",
            "REST_PREC     -0.061943  0.013556  0.081896 -0.015043  0.082670  0.277031   \n",
            "SELO_CLEAN     0.037459 -0.011326 -0.387537 -0.215203 -0.218230 -0.126698   \n",
            "SELO_VEGAN    -0.028589 -0.020674 -0.067197 -0.037813 -0.012896 -0.016257   \n",
            "SELO_TRANS     0.021798  0.039755 -0.001272  0.016564  0.036516  0.006777   \n",
            "SELO_ORGANIC  -0.026750 -0.012740 -0.154162 -0.071520 -0.015064 -0.042106   \n",
            "\n",
            "               REST_AN   REST_CN   REST_CA  REST_PREC  SELO_CLEAN  SELO_VEGAN  \\\n",
            "CATEGORIA    -0.193186 -0.192871 -0.119504  -0.061943    0.037459   -0.028589   \n",
            "MARCA        -0.024183 -0.002459 -0.013943   0.013556   -0.011326   -0.020674   \n",
            "REST_OA       0.078367  0.135704  0.104120   0.081896   -0.387537   -0.067197   \n",
            "REST_GT      -0.026983 -0.074706  0.003809  -0.015043   -0.215203   -0.037813   \n",
            "REST_AAD     -0.338736  0.123749  0.120450   0.082670   -0.218230   -0.012896   \n",
            "REST_AAR      0.236006  0.146922  0.066677   0.277031   -0.126698   -0.016257   \n",
            "REST_AN       1.000000  0.007930 -0.035583  -0.013202   -0.173478    0.020768   \n",
            "REST_CN       0.007930  1.000000  0.186303   0.194135   -0.136243   -0.012647   \n",
            "REST_CA      -0.035583  0.186303  1.000000   0.736638   -0.103350   -0.018160   \n",
            "REST_PREC    -0.013202  0.194135  0.736638   1.000000   -0.132962   -0.023363   \n",
            "SELO_CLEAN   -0.173478 -0.136243 -0.103350  -0.132962    1.000000    0.024543   \n",
            "SELO_VEGAN    0.020768 -0.012647 -0.018160  -0.023363    0.024543    1.000000   \n",
            "SELO_TRANS   -0.026494 -0.007774 -0.011456   0.021439   -0.037445    0.012416   \n",
            "SELO_ORGANIC -0.042629 -0.036175 -0.034347  -0.044188    0.189611    0.039801   \n",
            "\n",
            "              SELO_TRANS  SELO_ORGANIC  \n",
            "CATEGORIA       0.021798     -0.026750  \n",
            "MARCA           0.039755     -0.012740  \n",
            "REST_OA        -0.001272     -0.154162  \n",
            "REST_GT         0.016564     -0.071520  \n",
            "REST_AAD        0.036516     -0.015064  \n",
            "REST_AAR        0.006777     -0.042106  \n",
            "REST_AN        -0.026494     -0.042629  \n",
            "REST_CN        -0.007774     -0.036175  \n",
            "REST_CA        -0.011456     -0.034347  \n",
            "REST_PREC       0.021439     -0.044188  \n",
            "SELO_CLEAN     -0.037445      0.189611  \n",
            "SELO_VEGAN      0.012416      0.039801  \n",
            "SELO_TRANS      1.000000     -0.012444  \n",
            "SELO_ORGANIC   -0.012444      1.000000  \n"
          ]
        }
      ],
      "source": [
        "corr_matrix = app.corr()\n",
        "print(corr_matrix)"
      ]
    },
    {
      "cell_type": "code",
      "source": [
        "plt.figure(figsize=(16, 6))\n",
        "heatmap = sns.heatmap(app.corr(), vmin=-1, vmax=1, annot=True)\n",
        "heatmap.set_title('Correlation Heatmap', fontdict={'fontsize':12}, pad=12);"
      ],
      "metadata": {
        "colab": {
          "base_uri": "https://localhost:8080/",
          "height": 463
        },
        "id": "SvOQ_b_ai6ou",
        "outputId": "bb6d8610-aa0a-498d-8623-7e176e197ebc"
      },
      "execution_count": 28,
      "outputs": [
        {
          "output_type": "display_data",
          "data": {
            "text/plain": [
              "<Figure size 1152x432 with 2 Axes>"
            ],
            "image/png": "[encoded data removed]"
          },
          "metadata": {
            "needs_background": "light"
          }
        }
      ]
    },
    {
      "cell_type": "markdown",
      "source": [],
      "metadata": {
        "id": "YGR684MQw6kX"
      }
    },
    {
      "cell_type": "markdown",
      "source": [
        "No heatmap acima, pode-se observar que a maioria das variáveis não possuem alta correlação. Exceção está na relação de Corante Artificial e Aditivo com Restrição (0,74). Abaixo, vamos analisar algumas das variáveis com maior detalhamento."
      ],
      "metadata": {
        "id": "YMoCZ31xB_bM"
      }
    },
    {
      "cell_type": "code",
      "source": [
        "app.corr()[['CATEGORIA']].sort_values(by='CATEGORIA', ascending=False)\n",
        "plt.figure(figsize=(6, 8))\n",
        "heatmap = sns.heatmap(app.corr()[['CATEGORIA']].sort_values(by='CATEGORIA', ascending=False), vmin=-1, vmax=1, annot=True, cmap='BrBG')\n",
        "heatmap.set_title('Variáveis Relacionadas com Categoria', fontdict={'fontsize':18}, pad=10);\n"
      ],
      "metadata": {
        "colab": {
          "base_uri": "https://localhost:8080/",
          "height": 507
        },
        "id": "Oc-2zkrj_XEo",
        "outputId": "b2234f59-a520-4c10-a0f4-2373fd6d281f"
      },
      "execution_count": 29,
      "outputs": [
        {
          "output_type": "display_data",
          "data": {
            "text/plain": [
              "<Figure size 432x576 with 2 Axes>"
            ],
            "image/png": "[encoded data removed]"
          },
          "metadata": {
            "needs_background": "light"
          }
        }
      ]
    },
    {
      "cell_type": "markdown",
      "source": [
        "Para CATEGORIA, a variável com relação mais significativa (porém sem expressividade) é a de MARCA."
      ],
      "metadata": {
        "id": "HoJzkGxABSik"
      }
    },
    {
      "cell_type": "code",
      "source": [
        "app.corr()[['REST_CA']].sort_values(by='REST_CA', ascending=False)\n",
        "plt.figure(figsize=(6, 8))\n",
        "heatmap = sns.heatmap(app.corr()[['REST_CA']].sort_values(by='REST_CA', ascending=False), vmin=-1, vmax=1, annot=True, cmap='BrBG')\n",
        "heatmap.set_title('Variáveis Relacionadas com Restrição Corante Artificial', fontdict={'fontsize':18}, pad=10);"
      ],
      "metadata": {
        "id": "VZfDpPoxC4GD",
        "colab": {
          "base_uri": "https://localhost:8080/",
          "height": 508
        },
        "outputId": "b141fa58-1549-4011-ab6e-447f76c162d7"
      },
      "execution_count": 30,
      "outputs": [
        {
          "output_type": "display_data",
          "data": {
            "text/plain": [
              "<Figure size 432x576 with 2 Axes>"
            ],
            "image/png": "[encoded data removed]"
          },
          "metadata": {
            "needs_background": "light"
          }
        }
      ]
    },
    {
      "cell_type": "markdown",
      "source": [
        "Como exemplo do grupo de variáveis de restrição, a variável CORANTE ARTIFICIAL foi analisada. Esta apresenta alta correlação com ADITIVO COM PRECAUÇÃO. "
      ],
      "metadata": {
        "id": "xTPUPfDaDqhd"
      }
    },
    {
      "cell_type": "code",
      "source": [
        "app.corr()[['SELO_VEGAN']].sort_values(by='SELO_VEGAN', ascending=False)\n",
        "plt.figure(figsize=(6, 8))\n",
        "heatmap = sns.heatmap(app.corr()[['SELO_VEGAN']].sort_values(by='SELO_VEGAN', ascending=False), vmin=-1, vmax=1, annot=True, cmap='BrBG')\n",
        "heatmap.set_title('Variáveis Relacionadas com Selo Vegano', fontdict={'fontsize':18}, pad=10);"
      ],
      "metadata": {
        "id": "QkMq0zPDIN68",
        "colab": {
          "base_uri": "https://localhost:8080/",
          "height": 508
        },
        "outputId": "876f4f84-4758-4149-b7ed-1babf95f7c76"
      },
      "execution_count": 31,
      "outputs": [
        {
          "output_type": "display_data",
          "data": {
            "text/plain": [
              "<Figure size 432x576 with 2 Axes>"
            ],
            "image/png": "[encoded data removed]"
          },
          "metadata": {
            "needs_background": "light"
          }
        }
      ]
    },
    {
      "cell_type": "markdown",
      "source": [
        "Como exemplo do grupo de variáveis de incidência de selos, foi analisado a variável SELO VEGANO. Esta apresenta alguma relação com outros selos como SELO ORGÂNICO e SELO CLEAN LABEL. "
      ],
      "metadata": {
        "id": "kI-sim-SINDa"
      }
    },
    {
      "cell_type": "code",
      "source": [
        "app.corr()[['SELO_CLEAN']].sort_values(by='SELO_CLEAN', ascending=False)\n",
        "plt.figure(figsize=(6, 8))\n",
        "heatmap = sns.heatmap(app.corr()[['SELO_CLEAN']].sort_values(by='SELO_CLEAN', ascending=False), vmin=-1, vmax=1, annot=True, cmap='BrBG')\n",
        "heatmap.set_title('Variáveis Relacionadas com Selo Clean Label', fontdict={'fontsize':18}, pad=10);"
      ],
      "metadata": {
        "id": "YRmyMMVzLr-8",
        "colab": {
          "base_uri": "https://localhost:8080/",
          "height": 508
        },
        "outputId": "ebbb0336-b495-44a2-88bd-78d73147d053"
      },
      "execution_count": 32,
      "outputs": [
        {
          "output_type": "display_data",
          "data": {
            "text/plain": [
              "<Figure size 432x576 with 2 Axes>"
            ],
            "image/png": "[encoded data removed]"
          },
          "metadata": {
            "needs_background": "light"
          }
        }
      ]
    },
    {
      "cell_type": "markdown",
      "source": [
        "Já com a variável CLEAN LABEL, nota-se uma relação interessante: todos as variáveis restritivas possuem relação nula ou negativa. Isso confirma a definição do selo que, conceitualmente, deve ser isento de aditivos alimentares. Para essa pesquisa, vamos usar esse selo como parâmetro para o teste de predição dos modelos. "
      ],
      "metadata": {
        "id": "GXXD9rRPMDyi"
      }
    },
    {
      "cell_type": "markdown",
      "source": [
        "Na sequência, vamos dividir nossa base em teste e treinamento para iniciar as análises.  "
      ],
      "metadata": {
        "id": "kCZvH_mwPofu"
      }
    },
    {
      "cell_type": "markdown",
      "metadata": {
        "id": "gAeZAwWBWkfg"
      },
      "source": [
        "#Divisão Teste e Treinamento"
      ]
    },
    {
      "cell_type": "markdown",
      "source": [
        "Vamos separar os dados em teste (30%) e treinamento (70%). "
      ],
      "metadata": {
        "id": "U_hAwVSsNuhj"
      }
    },
    {
      "cell_type": "code",
      "execution_count": 33,
      "metadata": {
        "id": "-7sIbbNWWfY1"
      },
      "outputs": [],
      "source": [
        "from sklearn.feature_extraction.text import CountVectorizer\n",
        "from sklearn.feature_extraction.text import TfidfVectorizer\n",
        "\n",
        "from sklearn.model_selection import train_test_split\n",
        "from sklearn.ensemble import RandomForestClassifier    \n",
        "from sklearn.metrics import classification_report        \n",
        "from sklearn.model_selection import cross_val_score\n",
        "from sklearn.metrics import accuracy_score\n",
        "from sklearn.metrics import confusion_matrix\n",
        "from sklearn.model_selection import GridSearchCV"
      ]
    },
    {
      "cell_type": "markdown",
      "source": [
        "Como citado, vamos buscar prever a ocorrência da variável SELO CLEAN LABEL nos modelos do estudo."
      ],
      "metadata": {
        "id": "wcml1h8vMpra"
      }
    },
    {
      "cell_type": "code",
      "execution_count": 34,
      "metadata": {
        "id": "xiRNO4UCWzM5"
      },
      "outputs": [],
      "source": [
        "x = app[['MARCA', 'CATEGORIA', 'REST_OA', 'REST_GT', 'REST_AAD', 'REST_AAR','REST_AN', 'REST_CN', 'REST_CA', 'REST_PREC','SELO_VEGAN', 'SELO_TRANS', 'SELO_ORGANIC']]\n",
        "y = app['SELO_CLEAN']\n",
        "\n",
        "#'MARCA', 'REST_OA', 'REST_GT', 'REST_AAD', 'REST_AAR',\n",
        "       #'REST_AN', 'REST_CN', 'REST_CA', 'REST_PREC', 'SELO_CLEAN',\n",
        "       #'SELO_VEGAN', 'SELO_TRANS', 'SELO_ORGANIC'"
      ]
    },
    {
      "cell_type": "code",
      "execution_count": 35,
      "metadata": {
        "id": "XuKaO1aPZWKv"
      },
      "outputs": [],
      "source": [
        "x_train, x_test, y_train, y_test = train_test_split(x, y, test_size=0.3, shuffle=False)"
      ]
    },
    {
      "cell_type": "code",
      "execution_count": 36,
      "metadata": {
        "colab": {
          "base_uri": "https://localhost:8080/"
        },
        "id": "wWm0302-ZZOR",
        "outputId": "f4cf41e2-686e-4fa8-a020-1a3cb3664b30"
      },
      "outputs": [
        {
          "output_type": "stream",
          "name": "stdout",
          "text": [
            "Size of x_train: (5674, 13)\n",
            "Size of y_train: (5674,)\n",
            "Size of x_test: (2433, 13)\n",
            "Size of y_test: (2433,)\n"
          ]
        }
      ],
      "source": [
        "print(\"Size of x_train:\", (x_train.shape))\n",
        "print(\"Size of y_train:\", (y_train.shape))\n",
        "print(\"Size of x_test:\", (x_test.shape))\n",
        "print(\"Size of y_test:\", (y_test.shape))"
      ]
    },
    {
      "cell_type": "code",
      "execution_count": 37,
      "metadata": {
        "colab": {
          "base_uri": "https://localhost:8080/"
        },
        "id": "EAOwXtKFGc-7",
        "outputId": "714557d7-66a3-4cb6-d3aa-8d78c9234525"
      },
      "outputs": [
        {
          "output_type": "stream",
          "name": "stdout",
          "text": [
            "The size of train set is:  5674\n",
            "The size of test set is:   2433\n"
          ]
        }
      ],
      "source": [
        "from sklearn.model_selection import train_test_split                               \n",
        "\n",
        "data_train, data_test = train_test_split(app, test_size = 0.3, random_state = 42)  \n",
        "print(\"The size of train set is: \", len(data_train))                               \n",
        "print(\"The size of test set is:  \", len(data_test))                                 "
      ]
    },
    {
      "cell_type": "markdown",
      "source": [
        "Agora, vamos iniciar o teste nos modelos de algoritmos previstos."
      ],
      "metadata": {
        "id": "E0GwIzFIP5HK"
      }
    },
    {
      "cell_type": "markdown",
      "source": [
        "# Testando Modelos\n",
        "\n",
        "\n"
      ],
      "metadata": {
        "id": "xYW_NKz496K6"
      }
    },
    {
      "cell_type": "markdown",
      "metadata": {
        "id": "5WKF1UzYBQUv"
      },
      "source": [
        "## Logistic Regression\n"
      ]
    },
    {
      "cell_type": "markdown",
      "metadata": {
        "id": "7JIBSx7j381b"
      },
      "source": [
        "Nessa primeira análise, vamos testar o modelo de Regressão Logística.\n"
      ]
    },
    {
      "cell_type": "code",
      "execution_count": 38,
      "metadata": {
        "id": "XN2LGrkRBX8A"
      },
      "outputs": [],
      "source": [
        "from sklearn.linear_model import LogisticRegression\n",
        "from sklearn.metrics import accuracy_score, classification_report, confusion_matrix, ConfusionMatrixDisplay\n",
        "import warnings\n",
        "warnings.filterwarnings('ignore')"
      ]
    },
    {
      "cell_type": "code",
      "execution_count": 39,
      "metadata": {
        "colab": {
          "base_uri": "https://localhost:8080/"
        },
        "id": "wv82QscQBa96",
        "outputId": "a24b20cf-27f7-4f49-ac11-a3d13cd7d8a3"
      },
      "outputs": [
        {
          "output_type": "execute_result",
          "data": {
            "text/plain": [
              "LogisticRegression()"
            ]
          },
          "metadata": {},
          "execution_count": 39
        }
      ],
      "source": [
        "logreg = LogisticRegression()\n",
        "logreg.fit(x_train, y_train)"
      ]
    },
    {
      "cell_type": "code",
      "execution_count": 40,
      "metadata": {
        "colab": {
          "base_uri": "https://localhost:8080/"
        },
        "id": "eBhwmKQoZ3NE",
        "outputId": "80ff161f-ee54-475b-dc5f-ad0e3f9b8bb0"
      },
      "outputs": [
        {
          "output_type": "stream",
          "name": "stdout",
          "text": [
            "0.7233867653103164\n"
          ]
        }
      ],
      "source": [
        "logreg_pred = logreg.predict(x_test)\n",
        "logreg_acc = accuracy_score(logreg_pred, y_test)\n",
        "print(logreg_acc)"
      ]
    },
    {
      "cell_type": "markdown",
      "source": [
        "Acurácia do modelo é interessante, mas poderia ser melhor - em especial, na variável \"1\" (\"sim\"), conforme relacionado na confusion matrix abaixo. "
      ],
      "metadata": {
        "id": "ted5D7Z_TtBJ"
      }
    },
    {
      "cell_type": "code",
      "execution_count": 41,
      "metadata": {
        "colab": {
          "base_uri": "https://localhost:8080/"
        },
        "id": "Glz9QZhJZ5sf",
        "outputId": "c936d23b-a52d-49d3-d1b1-c819ce7d64de"
      },
      "outputs": [
        {
          "output_type": "stream",
          "name": "stdout",
          "text": [
            "[[1445  242]\n",
            " [ 431  315]]\n",
            "\n",
            "\n",
            "              precision    recall  f1-score   support\n",
            "\n",
            "           0       0.77      0.86      0.81      1687\n",
            "           1       0.57      0.42      0.48       746\n",
            "\n",
            "    accuracy                           0.72      2433\n",
            "   macro avg       0.67      0.64      0.65      2433\n",
            "weighted avg       0.71      0.72      0.71      2433\n",
            "\n"
          ]
        }
      ],
      "source": [
        "print(confusion_matrix(y_test,logreg_pred))\n",
        "print(\"\\n\")\n",
        "print(classification_report(y_test,logreg_pred))"
      ]
    },
    {
      "cell_type": "code",
      "execution_count": 42,
      "metadata": {
        "colab": {
          "base_uri": "https://localhost:8080/",
          "height": 279
        },
        "id": "INJE1nShaXSb",
        "outputId": "9ebe62fe-9288-4e99-8b46-c5d9348ae74c"
      },
      "outputs": [
        {
          "output_type": "display_data",
          "data": {
            "text/plain": [
              "<Figure size 432x288 with 2 Axes>"
            ],
            "image/png": "[encoded data removed]"
          },
          "metadata": {
            "needs_background": "light"
          }
        }
      ],
      "source": [
        "from sklearn.metrics._plot.confusion_matrix import plot_confusion_matrix\n",
        "Lmatrix_logreg = plot_confusion_matrix(logreg, x_test, y_test, cmap=plt.cm.Blues)"
      ]
    },
    {
      "cell_type": "markdown",
      "source": [
        "Número significativo de verdadeiros positivos/verdadeiros negativos podem ser identificados na confusion matrix acima. "
      ],
      "metadata": {
        "id": "5rOpmUmqVCMI"
      }
    },
    {
      "cell_type": "markdown",
      "source": [
        "Abaixo, vamos testar um novo modelo para buscar um resultado mais preciso. "
      ],
      "metadata": {
        "id": "muqtfdYEh0Og"
      }
    },
    {
      "cell_type": "markdown",
      "metadata": {
        "id": "8LtDvSMseJxe"
      },
      "source": [
        "## Decision Tree Classifier"
      ]
    },
    {
      "cell_type": "markdown",
      "source": [
        "Vamos avaliar o modelo de árvore de decisão para a previsão da variável CLEAN LABEL. "
      ],
      "metadata": {
        "id": "o1G3RTE7qoX4"
      }
    },
    {
      "cell_type": "code",
      "source": [
        "import pandas as pd\n",
        "from sklearn.tree import DecisionTreeClassifier\n",
        "from sklearn.model_selection import train_test_split\n",
        "from sklearn import metrics\n",
        "from sklearn import tree\n",
        "from sklearn.tree import export_graphviz"
      ],
      "metadata": {
        "id": "e6JG1A9k-2Ri"
      },
      "execution_count": 43,
      "outputs": []
    },
    {
      "cell_type": "code",
      "source": [
        "#split dataset in features and target variable\n",
        "feature_cols = ['SELO_VEGAN','SELO_TRANS', 'MARCA', 'REST_OA', 'REST_GT', 'REST_AAD', 'REST_AAR','REST_AN', 'REST_CN', 'REST_CA', 'REST_PREC', 'CATEGORIA', 'SELO_ORGANIC']\n",
        "x = app[feature_cols] # Features\n",
        "y = app.SELO_CLEAN # Target variable"
      ],
      "metadata": {
        "id": "HyZbHCzJ_BJj"
      },
      "execution_count": 44,
      "outputs": []
    },
    {
      "cell_type": "code",
      "source": [
        "# Split dataset into training set and test set\n",
        "x_train, x_test, y_train, y_test = train_test_split(x, y, test_size=0.3, random_state=1) # 70% training and 30% test"
      ],
      "metadata": {
        "id": "I6AdksOE_BHJ"
      },
      "execution_count": 45,
      "outputs": []
    },
    {
      "cell_type": "code",
      "source": [
        "# Create Decision Tree classifer object\n",
        "clf = DecisionTreeClassifier(max_depth = 3)\n",
        "\n",
        "# Train Decision Tree Classifer\n",
        "clf = clf.fit(x_train,y_train)\n",
        "\n",
        "#Predict the response for test dataset\n",
        "y_pred = clf.predict(x_test)"
      ],
      "metadata": {
        "id": "J3Ncbe9u_BEw"
      },
      "execution_count": 46,
      "outputs": []
    },
    {
      "cell_type": "code",
      "source": [
        "# Model Accuracy, how often is the classifier correct?\n",
        "print(\"Accuracy:\",metrics.accuracy_score(y_test, y_pred))"
      ],
      "metadata": {
        "colab": {
          "base_uri": "https://localhost:8080/"
        },
        "id": "iI7L8-ty_A_f",
        "outputId": "e2e81af3-22b1-4bd5-9e3e-0cff6c409998"
      },
      "execution_count": 47,
      "outputs": [
        {
          "output_type": "stream",
          "name": "stdout",
          "text": [
            "Accuracy: 0.8516235100698726\n"
          ]
        }
      ]
    },
    {
      "cell_type": "markdown",
      "source": [
        "Podemos observar que a acurácia aumentou com esse modelo. Abaixo, a sua confusion matrix, e índices de precisão e recall. Variável 1 (\"sim\") também aumenta sua precisão com esse modelo."
      ],
      "metadata": {
        "id": "x5VKFyj_Jzl6"
      }
    },
    {
      "cell_type": "code",
      "source": [
        "print(confusion_matrix(y_test,y_pred))\n",
        "print(\"\\n\")\n",
        "print(classification_report(y_test,y_pred))"
      ],
      "metadata": {
        "colab": {
          "base_uri": "https://localhost:8080/"
        },
        "id": "HPMy5Gw6rX28",
        "outputId": "59fd44cb-38a4-4c23-c951-d5e5c28bdc2e"
      },
      "execution_count": 48,
      "outputs": [
        {
          "output_type": "stream",
          "name": "stdout",
          "text": [
            "[[1872  125]\n",
            " [ 236  200]]\n",
            "\n",
            "\n",
            "              precision    recall  f1-score   support\n",
            "\n",
            "           0       0.89      0.94      0.91      1997\n",
            "           1       0.62      0.46      0.53       436\n",
            "\n",
            "    accuracy                           0.85      2433\n",
            "   macro avg       0.75      0.70      0.72      2433\n",
            "weighted avg       0.84      0.85      0.84      2433\n",
            "\n"
          ]
        }
      ]
    },
    {
      "cell_type": "code",
      "source": [
        "tree.plot_tree(clf)\n"
      ],
      "metadata": {
        "colab": {
          "base_uri": "https://localhost:8080/",
          "height": 480
        },
        "id": "YScD6ZRw_A8p",
        "outputId": "ba4891cc-507e-47af-f5a7-0f63d75a6fdb"
      },
      "execution_count": 49,
      "outputs": [
        {
          "output_type": "execute_result",
          "data": {
            "text/plain": [
              "[Text(0.4583333333333333, 0.875, 'X[3] <= 0.5\\ngini = 0.283\\nsamples = 5674\\nvalue = [4708, 966]'),\n",
              " Text(0.25, 0.625, 'X[7] <= 0.5\\ngini = 0.5\\nsamples = 974\\nvalue = [500, 474]'),\n",
              " Text(0.16666666666666666, 0.375, 'X[11] <= 4.5\\ngini = 0.499\\nsamples = 912\\nvalue = [438, 474]'),\n",
              " Text(0.08333333333333333, 0.125, 'gini = 0.478\\nsamples = 676\\nvalue = [267, 409]'),\n",
              " Text(0.25, 0.125, 'gini = 0.399\\nsamples = 236\\nvalue = [171, 65]'),\n",
              " Text(0.3333333333333333, 0.375, 'gini = 0.0\\nsamples = 62\\nvalue = [62, 0]'),\n",
              " Text(0.6666666666666666, 0.625, 'X[5] <= 0.5\\ngini = 0.187\\nsamples = 4700\\nvalue = [4208, 492]'),\n",
              " Text(0.5, 0.375, 'X[7] <= 0.5\\ngini = 0.338\\nsamples = 1645\\nvalue = [1291, 354]'),\n",
              " Text(0.4166666666666667, 0.125, 'gini = 0.429\\nsamples = 1136\\nvalue = [782, 354]'),\n",
              " Text(0.5833333333333334, 0.125, 'gini = 0.0\\nsamples = 509\\nvalue = [509, 0]'),\n",
              " Text(0.8333333333333334, 0.375, 'X[12] <= 0.5\\ngini = 0.086\\nsamples = 3055\\nvalue = [2917, 138]'),\n",
              " Text(0.75, 0.125, 'gini = 0.079\\nsamples = 3014\\nvalue = [2890, 124]'),\n",
              " Text(0.9166666666666666, 0.125, 'gini = 0.45\\nsamples = 41\\nvalue = [27, 14]')]"
            ]
          },
          "metadata": {},
          "execution_count": 49
        },
        {
          "output_type": "display_data",
          "data": {
            "text/plain": [
              "<Figure size 432x288 with 1 Axes>"
            ],
            "image/png": "[encoded data removed]"
          },
          "metadata": {
            "needs_background": "light"
          }
        }
      ]
    },
    {
      "cell_type": "markdown",
      "source": [
        "O modelo mostrou-se o mais bem-sucedido até o momento. Vamos testar um novo modelo na sequência."
      ],
      "metadata": {
        "id": "1VGfY2ofTFTy"
      }
    },
    {
      "cell_type": "markdown",
      "metadata": {
        "id": "CuPa65tKH8_D"
      },
      "source": [
        "## Random Forest"
      ]
    },
    {
      "cell_type": "markdown",
      "source": [
        "Vamos avaliar o modelo de Random Forest para a \n",
        "previsão da variável CLEAN LABEL."
      ],
      "metadata": {
        "id": "0QcQjqVb1ZtF"
      }
    },
    {
      "cell_type": "code",
      "execution_count": 50,
      "metadata": {
        "id": "Yyfjo6DBKXwf"
      },
      "outputs": [],
      "source": [
        "from sklearn.ensemble import RandomForestClassifier\n",
        "from sklearn.model_selection import train_test_split\n",
        "\n",
        "x = app[['CATEGORIA', 'SELO_VEGAN', 'REST_OA', 'REST_GT', 'REST_AAD', 'REST_AAR','REST_AN', 'REST_CN', 'REST_CA', 'REST_PREC', 'SELO_TRANS','SELO_ORGANIC', 'MARCA']]\n",
        "y = app['SELO_CLEAN']\n",
        "\n",
        "x_train, x_test, y_train, y_test = train_test_split(x, y, train_size=0.7, random_state=42)"
      ]
    },
    {
      "cell_type": "code",
      "execution_count": 51,
      "metadata": {
        "colab": {
          "base_uri": "https://localhost:8080/"
        },
        "id": "5VEoXfyYDi3M",
        "outputId": "74c89bc9-be47-4ab5-ef9a-3574cf5346b3"
      },
      "outputs": [
        {
          "output_type": "execute_result",
          "data": {
            "text/plain": [
              "RandomForestClassifier()"
            ]
          },
          "metadata": {},
          "execution_count": 51
        }
      ],
      "source": [
        "rfc = RandomForestClassifier()\n",
        "rfc.fit(x_train, y_train)"
      ]
    },
    {
      "cell_type": "code",
      "execution_count": 52,
      "metadata": {
        "id": "GPBosHqBOCOB"
      },
      "outputs": [],
      "source": [
        "y_pred = rfc.predict(x_test)\n"
      ]
    },
    {
      "cell_type": "code",
      "execution_count": 53,
      "metadata": {
        "colab": {
          "base_uri": "https://localhost:8080/"
        },
        "id": "kfRbDNkMSjb9",
        "outputId": "311fa30e-51bf-4daa-8e43-56ac254e4480"
      },
      "outputs": [
        {
          "output_type": "stream",
          "name": "stdout",
          "text": [
            "[[1930   87]\n",
            " [ 104  312]]\n",
            "\n",
            "\n",
            "Accuracy of the model is :  0.9214960953555281\n",
            "\n",
            "\n",
            "              precision    recall  f1-score   support\n",
            "\n",
            "           0       0.95      0.96      0.95      2017\n",
            "           1       0.78      0.75      0.77       416\n",
            "\n",
            "    accuracy                           0.92      2433\n",
            "   macro avg       0.87      0.85      0.86      2433\n",
            "weighted avg       0.92      0.92      0.92      2433\n",
            "\n"
          ]
        }
      ],
      "source": [
        "print(confusion_matrix(y_test,y_pred))\n",
        "print(\"\\n\")\n",
        "print(\"Accuracy of the model is : \",accuracy_score(y_test,y_pred))\n",
        "print(\"\\n\")\n",
        "print(classification_report(y_test,y_pred))"
      ]
    },
    {
      "cell_type": "markdown",
      "source": [
        "Esse modelo mostrou-se o melhor até o momento, com 92% de acurácia. Abaixo, um novo modelo será testado."
      ],
      "metadata": {
        "id": "vlQYXuIpQjK9"
      }
    },
    {
      "cell_type": "markdown",
      "source": [
        "##Naive Bayes"
      ],
      "metadata": {
        "id": "gz21wHcGTQ-M"
      }
    },
    {
      "cell_type": "markdown",
      "source": [
        "Vamos avaliar o modelo de Naive Bayes (Gaussian, Multinominal e Bernoulli)  para a previsão da variável CLEAN LABEL."
      ],
      "metadata": {
        "id": "mcwGD2WV1zqI"
      }
    },
    {
      "cell_type": "code",
      "source": [
        "from sklearn.naive_bayes import GaussianNB\n",
        "gnb = GaussianNB()\n",
        "gnb.fit(x_train, y_train)"
      ],
      "metadata": {
        "colab": {
          "base_uri": "https://localhost:8080/"
        },
        "id": "6Id_kvkkQ013",
        "outputId": "0c518b08-e9e5-41cf-ea2a-b06e09c8e2b7"
      },
      "execution_count": 54,
      "outputs": [
        {
          "output_type": "execute_result",
          "data": {
            "text/plain": [
              "GaussianNB()"
            ]
          },
          "metadata": {},
          "execution_count": 54
        }
      ]
    },
    {
      "cell_type": "code",
      "source": [
        "y_pred = gnb.predict(x_test)\n",
        "y_pred"
      ],
      "metadata": {
        "colab": {
          "base_uri": "https://localhost:8080/"
        },
        "id": "iVSiowJbXco8",
        "outputId": "73022e64-2d84-40b3-b857-39fc364ed521"
      },
      "execution_count": 55,
      "outputs": [
        {
          "output_type": "execute_result",
          "data": {
            "text/plain": [
              "array([0, 1, 1, ..., 1, 1, 0])"
            ]
          },
          "metadata": {},
          "execution_count": 55
        }
      ]
    },
    {
      "cell_type": "code",
      "source": [
        "print(confusion_matrix(y_test,y_pred))\n",
        "print(\"\\n\")\n",
        "print(\"Accuracy of the model is : \",accuracy_score(y_test,y_pred))\n",
        "print(\"\\n\")\n",
        "print(classification_report(y_test,y_pred))"
      ],
      "metadata": {
        "colab": {
          "base_uri": "https://localhost:8080/"
        },
        "id": "HfJFxHcTWtkG",
        "outputId": "93eab2d1-6048-44c9-f040-ad3e498018a0"
      },
      "execution_count": 56,
      "outputs": [
        {
          "output_type": "stream",
          "name": "stdout",
          "text": [
            "[[1016 1001]\n",
            " [   0  416]]\n",
            "\n",
            "\n",
            "Accuracy of the model is :  0.5885737772297575\n",
            "\n",
            "\n",
            "              precision    recall  f1-score   support\n",
            "\n",
            "           0       1.00      0.50      0.67      2017\n",
            "           1       0.29      1.00      0.45       416\n",
            "\n",
            "    accuracy                           0.59      2433\n",
            "   macro avg       0.65      0.75      0.56      2433\n",
            "weighted avg       0.88      0.59      0.63      2433\n",
            "\n"
          ]
        }
      ]
    },
    {
      "cell_type": "markdown",
      "source": [
        "Gaussian Naive Bayes com a pior performance até o momento."
      ],
      "metadata": {
        "id": "Ro0XdxKvZTvp"
      }
    },
    {
      "cell_type": "code",
      "source": [
        "from sklearn.naive_bayes import MultinomialNB\n",
        "mnb = MultinomialNB()\n",
        "mnb.fit(x_train, y_train)"
      ],
      "metadata": {
        "colab": {
          "base_uri": "https://localhost:8080/"
        },
        "id": "gJPaXHaFSv-S",
        "outputId": "26a740fb-b0c9-4783-d29a-2c25a2fbc5f6"
      },
      "execution_count": 57,
      "outputs": [
        {
          "output_type": "execute_result",
          "data": {
            "text/plain": [
              "MultinomialNB()"
            ]
          },
          "metadata": {},
          "execution_count": 57
        }
      ]
    },
    {
      "cell_type": "code",
      "source": [
        "y_pred = mnb.predict(x_test)\n",
        "y_pred"
      ],
      "metadata": {
        "colab": {
          "base_uri": "https://localhost:8080/"
        },
        "id": "Sz3WAM3YYBpb",
        "outputId": "ba3e1ed5-572f-428b-c8db-f310794d32d2"
      },
      "execution_count": 58,
      "outputs": [
        {
          "output_type": "execute_result",
          "data": {
            "text/plain": [
              "array([0, 0, 0, ..., 0, 0, 0])"
            ]
          },
          "metadata": {},
          "execution_count": 58
        }
      ]
    },
    {
      "cell_type": "code",
      "source": [
        "print(confusion_matrix(y_test,y_pred))\n",
        "print(\"\\n\")\n",
        "print(\"Accuracy of the model is : \",accuracy_score(y_test,y_pred))\n",
        "print(\"\\n\")\n",
        "print(classification_report(y_test,y_pred))"
      ],
      "metadata": {
        "colab": {
          "base_uri": "https://localhost:8080/"
        },
        "id": "-PWJMZU2VvBY",
        "outputId": "a1c6060d-face-4636-c11e-f5ca03930f46"
      },
      "execution_count": 59,
      "outputs": [
        {
          "output_type": "stream",
          "name": "stdout",
          "text": [
            "[[1924   93]\n",
            " [ 329   87]]\n",
            "\n",
            "\n",
            "Accuracy of the model is :  0.8265515824085491\n",
            "\n",
            "\n",
            "              precision    recall  f1-score   support\n",
            "\n",
            "           0       0.85      0.95      0.90      2017\n",
            "           1       0.48      0.21      0.29       416\n",
            "\n",
            "    accuracy                           0.83      2433\n",
            "   macro avg       0.67      0.58      0.60      2433\n",
            "weighted avg       0.79      0.83      0.80      2433\n",
            "\n"
          ]
        }
      ]
    },
    {
      "cell_type": "markdown",
      "source": [
        "Multinomial Naive Bayes com uma performance melhor, porém ainda pouco satisfatória para a variável 1 ( \"sim\"). "
      ],
      "metadata": {
        "id": "otykWuj2ZgSI"
      }
    },
    {
      "cell_type": "code",
      "source": [
        "from sklearn.naive_bayes import BernoulliNB\n",
        "bnb = BernoulliNB()\n",
        "bnb.fit(x_train, y_train)"
      ],
      "metadata": {
        "colab": {
          "base_uri": "https://localhost:8080/"
        },
        "id": "BaIKIORYV-PR",
        "outputId": "6e5df544-da41-4eb2-c346-ad33c3e791cc"
      },
      "execution_count": 60,
      "outputs": [
        {
          "output_type": "execute_result",
          "data": {
            "text/plain": [
              "BernoulliNB()"
            ]
          },
          "metadata": {},
          "execution_count": 60
        }
      ]
    },
    {
      "cell_type": "code",
      "source": [
        "y_pred = bnb.predict(x_test)\n",
        "y_pred"
      ],
      "metadata": {
        "colab": {
          "base_uri": "https://localhost:8080/"
        },
        "id": "db49axuXWOpe",
        "outputId": "fbc3e425-4e66-4e92-fab9-2f134ed6107f"
      },
      "execution_count": 61,
      "outputs": [
        {
          "output_type": "execute_result",
          "data": {
            "text/plain": [
              "array([0, 0, 0, ..., 0, 0, 0])"
            ]
          },
          "metadata": {},
          "execution_count": 61
        }
      ]
    },
    {
      "cell_type": "code",
      "source": [
        "from sklearn.metrics import accuracy_score\n",
        "print('Model accuracy score: {0:0.4f}'. format(accuracy_score(y_test, y_pred)))"
      ],
      "metadata": {
        "colab": {
          "base_uri": "https://localhost:8080/"
        },
        "id": "N5z_kIfSWYaz",
        "outputId": "8f367469-744d-4873-fff7-bc6b1fd5d0f0"
      },
      "execution_count": 62,
      "outputs": [
        {
          "output_type": "stream",
          "name": "stdout",
          "text": [
            "Model accuracy score: 0.8483\n"
          ]
        }
      ]
    },
    {
      "cell_type": "code",
      "source": [
        "print(confusion_matrix(y_test,y_pred))\n",
        "print(\"\\n\")\n",
        "print(\"Accuracy of the model is : \",accuracy_score(y_test,y_pred))\n",
        "print(\"\\n\")\n",
        "print(classification_report(y_test,y_pred))"
      ],
      "metadata": {
        "colab": {
          "base_uri": "https://localhost:8080/"
        },
        "id": "a5WSwXf6Z0nq",
        "outputId": "11c5687a-430c-4baa-9c60-814fa011ee4e"
      },
      "execution_count": 63,
      "outputs": [
        {
          "output_type": "stream",
          "name": "stdout",
          "text": [
            "[[1880  137]\n",
            " [ 232  184]]\n",
            "\n",
            "\n",
            "Accuracy of the model is :  0.8483353884093712\n",
            "\n",
            "\n",
            "              precision    recall  f1-score   support\n",
            "\n",
            "           0       0.89      0.93      0.91      2017\n",
            "           1       0.57      0.44      0.50       416\n",
            "\n",
            "    accuracy                           0.85      2433\n",
            "   macro avg       0.73      0.69      0.70      2433\n",
            "weighted avg       0.84      0.85      0.84      2433\n",
            "\n"
          ]
        }
      ]
    },
    {
      "cell_type": "markdown",
      "source": [
        "Bernoulli Naive Bayes com o melhor desempenho entre os modelos de Naive Bayes testados."
      ],
      "metadata": {
        "id": "J8uUvByTZ5ry"
      }
    },
    {
      "cell_type": "markdown",
      "source": [
        "Três modelos foram testados: Gaussian, Multinomial e Bernoulli com acurácia de 58%, 82% e 84%, respectivamente. Ainda que a performance seja satisfatória para Bernoulli, não supera o resultado do modelo de Random Forest."
      ],
      "metadata": {
        "id": "Gru-Qh__nT5D"
      }
    },
    {
      "cell_type": "markdown",
      "source": [
        "#Conclusão\n",
        "\n",
        "Nesse projeto foram utilizados quatro modelos de aprendizado supervisionado: Regressão Logística, Árvore de Decisão, Random Forest (Florestas Aleatórias) e Naive Bayes. Ainda que todas as opções demonstrem um desempenho satisfatório para o problema de pesquisa, o modelo de Random Forest obteve o melhor resultado de acurácia - em torno de 91%. O modelo de Árvore de Decisão foi o segundo com o melhor desempenho, com aproximadamente 85% de acurácia.\n",
        "\n",
        "\n"
      ],
      "metadata": {
        "id": "O-enI7IwgvQe"
      }
    },
    {
      "cell_type": "markdown",
      "source": [
        "#Limitações e Pesquisa Futura\n",
        "\n",
        "O presente estudo utilizou uma variável como modelo (CLEAN LABEL) para a predição de selos nutricionais na base de dados do aplicativo. Futuramente, novas análises podem ser desenvolvidas com outros parâmetros como, por exemplo, a ocorrência de selos alergênicos. \n",
        "\n",
        "Ainda, pode-se considerar outros aspectos de rotulagem como preditores mais assertivos para os selos nutricionais, além de CATEGORIA, MARCA, DADOS DE RESTRIÇÃO e DEMAIS SELOS NUTRICIONAIS.\n",
        "\n",
        "Pesquisas futuras podem, ainda, comparar esses resultados com outros modelos de classificação, como de Artificial Neural Network (ANN), ou modelos não-supervisionados, como o de K-means. Nesse sentido, devem ser considerados refinamentos, como uma análise de outliners. "
      ],
      "metadata": {
        "id": "e1BhTKNVvRH1"
      }
    }
  ],
  "metadata": {
    "colab": {
      "collapsed_sections": [
        "EEI2eQ8OHE5L",
        "gAeZAwWBWkfg"
      ],
      "provenance": [],
      "toc_visible": true
    },
    "kernelspec": {
      "display_name": "Python 3",
      "name": "python3"
    },
    "language_info": {
      "name": "python"
    }
  },
  "nbformat": 4,
  "nbformat_minor": 0
}